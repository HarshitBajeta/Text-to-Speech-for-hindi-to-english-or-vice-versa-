{
 "cells": [
  {
   "cell_type": "code",
   "execution_count": 15,
   "id": "806e0ef4",
   "metadata": {},
   "outputs": [],
   "source": [
    "from transformers import MBartForConditionalGeneration, MBart50TokenizerFast"
   ]
  },
  {
   "cell_type": "code",
   "execution_count": 16,
   "id": "21ad485b",
   "metadata": {},
   "outputs": [],
   "source": [
    "model = MBartForConditionalGeneration.from_pretrained(\"facebook/mbart-large-50-many-to-many-mmt\")"
   ]
  },
  {
   "cell_type": "code",
   "execution_count": 17,
   "id": "9c42f599",
   "metadata": {},
   "outputs": [],
   "source": [
    "tokenizer = MBart50TokenizerFast.from_pretrained(\"facebook/mbart-large-50-one-to-many-mmt\", src_lang=\"hi_IN\")"
   ]
  },
  {
   "cell_type": "code",
   "execution_count": 18,
   "id": "1603cb06",
   "metadata": {},
   "outputs": [],
   "source": [
    "def textconv(text):\n",
    "    model_inputs = tokenizer(text, return_tensors=\"pt\")\n",
    "    # translate from eng to hindi\n",
    "    generated_tokens = model.generate( **model_inputs, forced_bos_token_id=tokenizer.lang_code_to_id[\"en_XX\"])\n",
    "    translation = tokenizer.batch_decode(generated_tokens, skip_special_tokens=True)\n",
    "    return translation"
   ]
  },
  {
   "cell_type": "code",
   "execution_count": 19,
   "id": "c732edcd",
   "metadata": {},
   "outputs": [
    {
     "name": "stderr",
     "output_type": "stream",
     "text": [
      "E:\\anaconda\\lib\\site-packages\\transformers\\generation_utils.py:1202: UserWarning: Neither `max_length` nor `max_new_tokens` have been set, `max_length` will default to 200 (`self.config.max_length`). Controlling `max_length` via the config is deprecated and `max_length` will be removed from the config in v5 of Transformers -- we recommend using `max_new_tokens` to control the maximum length of the generation.\n",
      "  warnings.warn(\n"
     ]
    },
    {
     "name": "stdout",
     "output_type": "stream",
     "text": [
      "[\"I'm here to guide you\"]\n"
     ]
    }
   ],
   "source": [
    "text='मैं आपका मार्गदर्शन करने के लिए यहाँ हूँ'\n",
    "text1=textconv(text)\n",
    "print(text1)"
   ]
  },
  {
   "cell_type": "markdown",
   "id": "63fe58e3",
   "metadata": {},
   "source": [
    "# Text to Speech"
   ]
  },
  {
   "cell_type": "code",
   "execution_count": 22,
   "id": "5da3d39d",
   "metadata": {},
   "outputs": [],
   "source": [
    "import pyttsx3\n",
    "\n",
    "# input\n",
    "#text = 'Welcome to Hackers Realm. It contains tutorial videos on technology'\n",
    "\n",
    "# initialize the module\n",
    "text_to_speech = pyttsx3.init()\n",
    "\n",
    "# adjust the speed\n",
    "text_to_speech.setProperty('rate', 140)\n",
    "\n",
    "# change the voice\n",
    "voices = text_to_speech.getProperty('voices')\n",
    "text_to_speech.setProperty('voice', voices[1].id) # 0,1 for male and 2 for female\n",
    "\n",
    "# convert text to speech\n",
    "text_to_speech.say(text1)\n",
    "\n",
    "# save the audio file\n",
    "text_to_speech.save_to_file(text, 'test1.mp3')\n",
    "\n",
    "# listen to audio\n",
    "text_to_speech.runAndWait()\n"
   ]
  },
  {
   "cell_type": "code",
   "execution_count": null,
   "id": "ffbf8fa8",
   "metadata": {},
   "outputs": [],
   "source": []
  }
 ],
 "metadata": {
  "kernelspec": {
   "display_name": "Python 3 (ipykernel)",
   "language": "python",
   "name": "python3"
  },
  "language_info": {
   "codemirror_mode": {
    "name": "ipython",
    "version": 3
   },
   "file_extension": ".py",
   "mimetype": "text/x-python",
   "name": "python",
   "nbconvert_exporter": "python",
   "pygments_lexer": "ipython3",
   "version": "3.9.12"
  }
 },
 "nbformat": 4,
 "nbformat_minor": 5
}
