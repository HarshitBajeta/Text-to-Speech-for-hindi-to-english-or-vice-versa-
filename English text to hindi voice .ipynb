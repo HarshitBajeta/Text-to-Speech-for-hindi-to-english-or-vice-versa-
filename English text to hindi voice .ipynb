{
 "cells": [
  {
   "cell_type": "markdown",
   "id": "9513edd9",
   "metadata": {},
   "source": [
    "# Text conversion"
   ]
  },
  {
   "cell_type": "code",
   "execution_count": 1,
   "id": "dbe0912a",
   "metadata": {},
   "outputs": [],
   "source": [
    "from transformers import MBartForConditionalGeneration, MBart50TokenizerFast"
   ]
  },
  {
   "cell_type": "code",
   "execution_count": 2,
   "id": "573677db",
   "metadata": {},
   "outputs": [],
   "source": [
    "model = MBartForConditionalGeneration.from_pretrained(\"facebook/mbart-large-50-many-to-many-mmt\")"
   ]
  },
  {
   "cell_type": "code",
   "execution_count": 3,
   "id": "b64ebbbf",
   "metadata": {},
   "outputs": [],
   "source": [
    "tokenizer = MBart50TokenizerFast.from_pretrained(\"facebook/mbart-large-50-one-to-many-mmt\", src_lang=\"en_XX\")"
   ]
  },
  {
   "cell_type": "code",
   "execution_count": 4,
   "id": "6c2e7065",
   "metadata": {},
   "outputs": [],
   "source": [
    "def textconv(text):\n",
    "    model_inputs = tokenizer(text, return_tensors=\"pt\")\n",
    "    # translate from eng to hindi\n",
    "    generated_tokens = model.generate( **model_inputs, forced_bos_token_id=tokenizer.lang_code_to_id[\"hi_IN\"])\n",
    "    translation = tokenizer.batch_decode(generated_tokens, skip_special_tokens=True)\n",
    "    return translation"
   ]
  },
  {
   "cell_type": "code",
   "execution_count": 5,
   "id": "97daba43",
   "metadata": {},
   "outputs": [],
   "source": [
    "text='hello I am here to guide you'"
   ]
  },
  {
   "cell_type": "code",
   "execution_count": 6,
   "id": "9ade6d5f",
   "metadata": {},
   "outputs": [
    {
     "name": "stderr",
     "output_type": "stream",
     "text": [
      "E:\\anaconda\\lib\\site-packages\\transformers\\generation_utils.py:1202: UserWarning: Neither `max_length` nor `max_new_tokens` have been set, `max_length` will default to 200 (`self.config.max_length`). Controlling `max_length` via the config is deprecated and `max_length` will be removed from the config in v5 of Transformers -- we recommend using `max_new_tokens` to control the maximum length of the generation.\n",
      "  warnings.warn(\n"
     ]
    },
    {
     "name": "stdout",
     "output_type": "stream",
     "text": [
      "['मैं आपका मार्गदर्शन करने के लिए यहाँ हूँ']\n"
     ]
    }
   ],
   "source": [
    "text1=textconv(text)\n",
    "print(text1)"
   ]
  },
  {
   "cell_type": "markdown",
   "id": "1268104d",
   "metadata": {},
   "source": [
    "# Voice Module"
   ]
  },
  {
   "cell_type": "code",
   "execution_count": 7,
   "id": "46e00a9c",
   "metadata": {},
   "outputs": [
    {
     "name": "stdout",
     "output_type": "stream",
     "text": [
      "Voice: Microsoft David Desktop - English (United States)\n",
      "Voice: Microsoft Mark - English (United States)\n",
      "Voice: Microsoft Zira - English (United States)\n",
      "Voice: Microsoft Hemant - Hindi (India)\n",
      "Voice: Microsoft Kalpana - Hindi (India)\n",
      "Voice: Microsoft David - English (United States)\n",
      "Voice: Microsoft Zira Desktop - English (United States)\n"
     ]
    }
   ],
   "source": [
    "import pyttsx3\n",
    "# initialize the module\n",
    "text_to_speech = pyttsx3.init()\n",
    "voices = text_to_speech.getProperty('voices')\n",
    "for voice in voices:\n",
    "    print(f\"Voice: {voice.name}\")\n"
   ]
  },
  {
   "cell_type": "code",
   "execution_count": 8,
   "id": "05657942",
   "metadata": {},
   "outputs": [],
   "source": [
    "# adjust the speed\n",
    "text_to_speech.setProperty('rate', 170)\n",
    "\n",
    "# change the voice\n",
    "voices = text_to_speech.getProperty('voices')\n",
    "text_to_speech.setProperty('voice', voices[4].id) # 3 for male and 4 for female\n"
   ]
  },
  {
   "cell_type": "code",
   "execution_count": 9,
   "id": "038c2699",
   "metadata": {},
   "outputs": [],
   "source": [
    "# input\n",
    "#text = 'मेरा नाम राम है'\n",
    "\n",
    "# convert text to speech\n",
    "text_to_speech.say(text1)\n",
    "\n",
    "# save the audio file\n",
    "text_to_speech.save_to_file(text, 'test.mp3')\n",
    "\n",
    "# listen to audio\n",
    "text_to_speech.runAndWait()"
   ]
  },
  {
   "cell_type": "code",
   "execution_count": null,
   "id": "0e96955f",
   "metadata": {},
   "outputs": [],
   "source": []
  }
 ],
 "metadata": {
  "kernelspec": {
   "display_name": "Python 3 (ipykernel)",
   "language": "python",
   "name": "python3"
  },
  "language_info": {
   "codemirror_mode": {
    "name": "ipython",
    "version": 3
   },
   "file_extension": ".py",
   "mimetype": "text/x-python",
   "name": "python",
   "nbconvert_exporter": "python",
   "pygments_lexer": "ipython3",
   "version": "3.9.12"
  }
 },
 "nbformat": 4,
 "nbformat_minor": 5
}
